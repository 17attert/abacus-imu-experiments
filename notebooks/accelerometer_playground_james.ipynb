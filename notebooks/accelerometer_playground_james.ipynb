{
 "cells": [
  {
   "cell_type": "markdown",
   "metadata": {},
   "source": [
    "# Accelerometer playground\n",
    "This playground was initially developed by James G to see the affects of noise on position estimation using dead reckoning. "
   ]
  },
  {
   "cell_type": "code",
   "execution_count": 27,
   "metadata": {},
   "outputs": [],
   "source": [
    "import numpy as np\n",
    "import matplotlib.pyplot as plt"
   ]
  },
  {
   "cell_type": "code",
   "execution_count": 28,
   "metadata": {},
   "outputs": [
    {
     "data": {
      "image/png": "[encoded data removed]",
      "text/plain": [
       "<Figure size 432x288 with 1 Axes>"
      ]
     },
     "metadata": {
      "needs_background": "light"
     },
     "output_type": "display_data"
    }
   ],
   "source": [
    "sigma_accel = 0.0\n",
    "sigma_pos = 0.0\n",
    "\n",
    "stop_points = [[0,0], [0,1], [1,1], [1,0], [0,0]]\n",
    "\n",
    "intended_path_X, intended_path_Y = [], []\n",
    "steps_per = 10\n",
    "\n",
    "for i in range(len(stop_points) - 1):\n",
    "    pt1 = stop_points[i]\n",
    "    pt2 = stop_points[i+1]\n",
    "    X_ = np.linspace(pt1[0], pt2[0], steps_per + 1)\n",
    "    Y_ = np.linspace(pt1[1], pt2[1], steps_per + 1)\n",
    "    \n",
    "    for x, y in zip(X_,Y_):\n",
    "        intended_path_X.append(x)\n",
    "        intended_path_Y.append(y)\n",
    "        \n",
    "intended_path_X = np.array(intended_path_X)\n",
    "intended_path_Y = np.array(intended_path_Y)\n",
    "        \n",
    "walk_noise_X = np.random.normal(0,sigma_pos,len(intended_path_X))\n",
    "walk_noise_Y = np.random.normal(0,sigma_pos,len(intended_path_Y))\n",
    "\n",
    "actual_path_X = intended_path_X + walk_noise_X\n",
    "actual_path_Y = intended_path_Y + walk_noise_Y\n",
    "\n",
    "veloc_true_X = np.diff(actual_path_X)\n",
    "veloc_true_Y = np.diff(actual_path_Y)\n",
    "\n",
    "accel_true_X = np.diff(veloc_true_X)\n",
    "accel_true_Y = np.diff(veloc_true_Y)\n",
    "\n",
    "accel_true_X = np.insert(accel_true_X, 0, veloc_true_X[0])\n",
    "accel_true_Y = np.insert(accel_true_Y, 0, veloc_true_Y[0])\n",
    "\n",
    "def generate_candidate_path(accel_true_X, accel_true_Y):\n",
    "    \n",
    "    accel_noise_X = np.random.normal(0,sigma_accel,len(accel_true_X))\n",
    "    accel_noise_Y = np.random.normal(0,sigma_accel,len(accel_true_Y))\n",
    "\n",
    "    accel_model_X = accel_true_X + accel_noise_X\n",
    "    accel_model_Y = accel_true_Y + accel_noise_Y\n",
    "\n",
    "    veloc_model_X = np.cumsum(accel_model_X)\n",
    "    model_path_X = np.cumsum(veloc_model_X)\n",
    "\n",
    "    veloc_model_Y = np.cumsum(accel_model_Y)\n",
    "    model_path_Y = np.cumsum(veloc_model_Y)\n",
    "    \n",
    "    return model_path_X, model_path_Y\n",
    "\n",
    "\n",
    "\n",
    "\n",
    "plt.plot(intended_path_X, intended_path_Y, label = 'intended path')\n",
    "plt.plot(actual_path_X, actual_path_Y, label = 'actual path')\n",
    "\n",
    "for i in range(1):\n",
    "    model_path_X, model_path_Y = generate_candidate_path(accel_true_X, accel_true_Y)\n",
    "    plt.plot(model_path_X, model_path_Y, label = 'model path')\n",
    "plt.legend()\n",
    "plt.show()"
   ]
  }
 ],
 "metadata": {
  "interpreter": {
   "hash": "31f2aee4e71d21fbe5cf8b01ff0e069b9275f58929596ceb00d14d90e3e16cd6"
  },
  "kernelspec": {
   "display_name": "Python 3.8.9 64-bit",
   "language": "python",
   "name": "python3"
  },
  "language_info": {
   "codemirror_mode": {
    "name": "ipython",
    "version": 3
   },
   "file_extension": ".py",
   "mimetype": "text/x-python",
   "name": "python",
   "nbconvert_exporter": "python",
   "pygments_lexer": "ipython3",
   "version": "3.8.9"
  },
  "orig_nbformat": 4
 },
 "nbformat": 4,
 "nbformat_minor": 2
}
